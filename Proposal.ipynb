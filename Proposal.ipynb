{
 "cells": [
  {
   "cell_type": "code",
   "execution_count": 68,
   "metadata": {},
   "outputs": [],
   "source": [
    "library(repr)\n",
    "library(tidyverse)\n",
    "library(tidymodels)\n",
    "library(readr)\n",
    "library(janitor)\n",
    "library(dplyr)\n",
    "options(digits = 4)\n",
    "set.seed(2)"
   ]
  },
  {
   "cell_type": "markdown",
   "metadata": {},
   "source": [
    "#### Group project proposal"
   ]
  },
  {
   "cell_type": "markdown",
   "metadata": {},
   "source": [
    "# Data Analysis on Air Quality Index of Counties in the US"
   ]
  },
  {
   "cell_type": "markdown",
   "metadata": {},
   "source": [
    "DSCI100 group porject-006-14  \n",
    "Group member:  \n",
    "`Dorthy GER`  \n",
    "`Charlie Hua`  \n",
    "`Callie Phelps`  \n",
    "`Hancheng Zhang 29643160`\n"
   ]
  },
  {
   "cell_type": "markdown",
   "metadata": {},
   "source": [
    "## Introduction"
   ]
  },
  {
   "cell_type": "markdown",
   "metadata": {},
   "source": [
    "## Preliminary exploratory data analysis"
   ]
  },
  {
   "cell_type": "markdown",
   "metadata": {},
   "source": [
    "This data analysis project is based on the \"annual_aqi_by_county_2021.csv\" dataset. It can be directly read from the web as follow."
   ]
  },
  {
   "cell_type": "code",
   "execution_count": 56,
   "metadata": {},
   "outputs": [
    {
     "data": {
      "text/html": [
       "<table>\n",
       "<caption>A data.frame: 6 × 19</caption>\n",
       "<thead>\n",
       "\t<tr><th></th><th scope=col>State</th><th scope=col>County</th><th scope=col>Year</th><th scope=col>Days.with.AQI</th><th scope=col>Good.Days</th><th scope=col>Moderate.Days</th><th scope=col>Unhealthy.for.Sensitive.Groups.Days</th><th scope=col>Unhealthy.Days</th><th scope=col>Very.Unhealthy.Days</th><th scope=col>Hazardous.Days</th><th scope=col>Max.AQI</th><th scope=col>X90th.Percentile.AQI</th><th scope=col>Median.AQI</th><th scope=col>Days.CO</th><th scope=col>Days.NO2</th><th scope=col>Days.Ozone</th><th scope=col>Days.SO2</th><th scope=col>Days.PM2.5</th><th scope=col>Days.PM10</th></tr>\n",
       "\t<tr><th></th><th scope=col>&lt;chr&gt;</th><th scope=col>&lt;chr&gt;</th><th scope=col>&lt;int&gt;</th><th scope=col>&lt;int&gt;</th><th scope=col>&lt;int&gt;</th><th scope=col>&lt;int&gt;</th><th scope=col>&lt;int&gt;</th><th scope=col>&lt;int&gt;</th><th scope=col>&lt;int&gt;</th><th scope=col>&lt;int&gt;</th><th scope=col>&lt;int&gt;</th><th scope=col>&lt;int&gt;</th><th scope=col>&lt;int&gt;</th><th scope=col>&lt;int&gt;</th><th scope=col>&lt;int&gt;</th><th scope=col>&lt;int&gt;</th><th scope=col>&lt;int&gt;</th><th scope=col>&lt;int&gt;</th><th scope=col>&lt;int&gt;</th></tr>\n",
       "</thead>\n",
       "<tbody>\n",
       "\t<tr><th scope=row>1</th><td>Alabama</td><td>Baldwin  </td><td>2021</td><td>203</td><td>190</td><td>13</td><td>0</td><td>0</td><td>0</td><td>0</td><td> 61</td><td>49</td><td>37</td><td>0</td><td>0</td><td>166</td><td>0</td><td> 37</td><td>0</td></tr>\n",
       "\t<tr><th scope=row>2</th><td>Alabama</td><td>Clay     </td><td>2021</td><td> 73</td><td> 66</td><td> 7</td><td>0</td><td>0</td><td>0</td><td>0</td><td> 67</td><td>50</td><td>28</td><td>0</td><td>0</td><td>  0</td><td>0</td><td> 73</td><td>0</td></tr>\n",
       "\t<tr><th scope=row>3</th><td>Alabama</td><td>DeKalb   </td><td>2021</td><td>239</td><td>211</td><td>28</td><td>0</td><td>0</td><td>0</td><td>0</td><td> 84</td><td>51</td><td>38</td><td>0</td><td>0</td><td>213</td><td>0</td><td> 26</td><td>0</td></tr>\n",
       "\t<tr><th scope=row>4</th><td>Alabama</td><td>Elmore   </td><td>2021</td><td>180</td><td>177</td><td> 3</td><td>0</td><td>0</td><td>0</td><td>0</td><td> 87</td><td>45</td><td>34</td><td>0</td><td>0</td><td>180</td><td>0</td><td>  0</td><td>0</td></tr>\n",
       "\t<tr><th scope=row>5</th><td>Alabama</td><td>Etowah   </td><td>2021</td><td>204</td><td>178</td><td>26</td><td>0</td><td>0</td><td>0</td><td>0</td><td> 77</td><td>54</td><td>38</td><td>0</td><td>0</td><td>158</td><td>0</td><td> 46</td><td>0</td></tr>\n",
       "\t<tr><th scope=row>6</th><td>Alabama</td><td>Jefferson</td><td>2021</td><td>182</td><td> 90</td><td>90</td><td>1</td><td>0</td><td>1</td><td>0</td><td>213</td><td>74</td><td>51</td><td>2</td><td>1</td><td> 65</td><td>0</td><td>113</td><td>1</td></tr>\n",
       "</tbody>\n",
       "</table>\n"
      ],
      "text/latex": [
       "A data.frame: 6 × 19\n",
       "\\begin{tabular}{r|lllllllllllllllllll}\n",
       "  & State & County & Year & Days.with.AQI & Good.Days & Moderate.Days & Unhealthy.for.Sensitive.Groups.Days & Unhealthy.Days & Very.Unhealthy.Days & Hazardous.Days & Max.AQI & X90th.Percentile.AQI & Median.AQI & Days.CO & Days.NO2 & Days.Ozone & Days.SO2 & Days.PM2.5 & Days.PM10\\\\\n",
       "  & <chr> & <chr> & <int> & <int> & <int> & <int> & <int> & <int> & <int> & <int> & <int> & <int> & <int> & <int> & <int> & <int> & <int> & <int> & <int>\\\\\n",
       "\\hline\n",
       "\t1 & Alabama & Baldwin   & 2021 & 203 & 190 & 13 & 0 & 0 & 0 & 0 &  61 & 49 & 37 & 0 & 0 & 166 & 0 &  37 & 0\\\\\n",
       "\t2 & Alabama & Clay      & 2021 &  73 &  66 &  7 & 0 & 0 & 0 & 0 &  67 & 50 & 28 & 0 & 0 &   0 & 0 &  73 & 0\\\\\n",
       "\t3 & Alabama & DeKalb    & 2021 & 239 & 211 & 28 & 0 & 0 & 0 & 0 &  84 & 51 & 38 & 0 & 0 & 213 & 0 &  26 & 0\\\\\n",
       "\t4 & Alabama & Elmore    & 2021 & 180 & 177 &  3 & 0 & 0 & 0 & 0 &  87 & 45 & 34 & 0 & 0 & 180 & 0 &   0 & 0\\\\\n",
       "\t5 & Alabama & Etowah    & 2021 & 204 & 178 & 26 & 0 & 0 & 0 & 0 &  77 & 54 & 38 & 0 & 0 & 158 & 0 &  46 & 0\\\\\n",
       "\t6 & Alabama & Jefferson & 2021 & 182 &  90 & 90 & 1 & 0 & 1 & 0 & 213 & 74 & 51 & 2 & 1 &  65 & 0 & 113 & 1\\\\\n",
       "\\end{tabular}\n"
      ],
      "text/markdown": [
       "\n",
       "A data.frame: 6 × 19\n",
       "\n",
       "| <!--/--> | State &lt;chr&gt; | County &lt;chr&gt; | Year &lt;int&gt; | Days.with.AQI &lt;int&gt; | Good.Days &lt;int&gt; | Moderate.Days &lt;int&gt; | Unhealthy.for.Sensitive.Groups.Days &lt;int&gt; | Unhealthy.Days &lt;int&gt; | Very.Unhealthy.Days &lt;int&gt; | Hazardous.Days &lt;int&gt; | Max.AQI &lt;int&gt; | X90th.Percentile.AQI &lt;int&gt; | Median.AQI &lt;int&gt; | Days.CO &lt;int&gt; | Days.NO2 &lt;int&gt; | Days.Ozone &lt;int&gt; | Days.SO2 &lt;int&gt; | Days.PM2.5 &lt;int&gt; | Days.PM10 &lt;int&gt; |\n",
       "|---|---|---|---|---|---|---|---|---|---|---|---|---|---|---|---|---|---|---|---|\n",
       "| 1 | Alabama | Baldwin   | 2021 | 203 | 190 | 13 | 0 | 0 | 0 | 0 |  61 | 49 | 37 | 0 | 0 | 166 | 0 |  37 | 0 |\n",
       "| 2 | Alabama | Clay      | 2021 |  73 |  66 |  7 | 0 | 0 | 0 | 0 |  67 | 50 | 28 | 0 | 0 |   0 | 0 |  73 | 0 |\n",
       "| 3 | Alabama | DeKalb    | 2021 | 239 | 211 | 28 | 0 | 0 | 0 | 0 |  84 | 51 | 38 | 0 | 0 | 213 | 0 |  26 | 0 |\n",
       "| 4 | Alabama | Elmore    | 2021 | 180 | 177 |  3 | 0 | 0 | 0 | 0 |  87 | 45 | 34 | 0 | 0 | 180 | 0 |   0 | 0 |\n",
       "| 5 | Alabama | Etowah    | 2021 | 204 | 178 | 26 | 0 | 0 | 0 | 0 |  77 | 54 | 38 | 0 | 0 | 158 | 0 |  46 | 0 |\n",
       "| 6 | Alabama | Jefferson | 2021 | 182 |  90 | 90 | 1 | 0 | 1 | 0 | 213 | 74 | 51 | 2 | 1 |  65 | 0 | 113 | 1 |\n",
       "\n"
      ],
      "text/plain": [
       "  State   County    Year Days.with.AQI Good.Days Moderate.Days\n",
       "1 Alabama Baldwin   2021 203           190       13           \n",
       "2 Alabama Clay      2021  73            66        7           \n",
       "3 Alabama DeKalb    2021 239           211       28           \n",
       "4 Alabama Elmore    2021 180           177        3           \n",
       "5 Alabama Etowah    2021 204           178       26           \n",
       "6 Alabama Jefferson 2021 182            90       90           \n",
       "  Unhealthy.for.Sensitive.Groups.Days Unhealthy.Days Very.Unhealthy.Days\n",
       "1 0                                   0              0                  \n",
       "2 0                                   0              0                  \n",
       "3 0                                   0              0                  \n",
       "4 0                                   0              0                  \n",
       "5 0                                   0              0                  \n",
       "6 1                                   0              1                  \n",
       "  Hazardous.Days Max.AQI X90th.Percentile.AQI Median.AQI Days.CO Days.NO2\n",
       "1 0               61     49                   37         0       0       \n",
       "2 0               67     50                   28         0       0       \n",
       "3 0               84     51                   38         0       0       \n",
       "4 0               87     45                   34         0       0       \n",
       "5 0               77     54                   38         0       0       \n",
       "6 0              213     74                   51         2       1       \n",
       "  Days.Ozone Days.SO2 Days.PM2.5 Days.PM10\n",
       "1 166        0         37        0        \n",
       "2   0        0         73        0        \n",
       "3 213        0         26        0        \n",
       "4 180        0          0        0        \n",
       "5 158        0         46        0        \n",
       "6  65        0        113        1        "
      ]
     },
     "metadata": {},
     "output_type": "display_data"
    }
   ],
   "source": [
    "url <- \"https://raw.githubusercontent.com/Hansen0014/Air-quality-data/main/annual_aqi_by_county_2021.csv\"\n",
    "Air_quality <- read.csv(url)\n",
    "head(Air_quality)"
   ]
  },
  {
   "cell_type": "markdown",
   "metadata": {},
   "source": [
    "Since we want to predict does a county face existing/potential air quality issues. We decide to set a bar towards `90th_Percentile_AQI`. Counties with 90th percentile AQI **higher than or equal to 60** would be defined as \"`not satisfying`\" type(having existing/potential air quality), and counties with 90th percentile AQI **lower than 60** would be defined as `satisfying` type(having no air quality issue).\n",
    "\n",
    "In order to achieve this goal, we need to wangle this data to a clean and tidy form without other unnecessary columns.  \n",
    "Firstly, we chosed \"`days_Ozone`\",\"`good_days`\",\"`days_pm2.5`\" as our **predictor variable**.  \n",
    "Due to these three variable are based on \"`Days_with_AQI`\", we can not directly use them as comparison variable since every county has different `Days_with_AQI`. So we mutated them to the percentage form.  \n",
    "Then we divided the observations to two groups---\"`not satisfying`\" and \"`satisifying`\" based on their \"`90th_Percentile_AQI`\"."
   ]
  },
  {
   "cell_type": "code",
   "execution_count": 70,
   "metadata": {},
   "outputs": [
    {
     "data": {
      "text/html": [
       "<table>\n",
       "<caption>A data.frame: 10 × 5</caption>\n",
       "<thead>\n",
       "\t<tr><th></th><th scope=col>county</th><th scope=col>per_good_days</th><th scope=col>per_days_Ozone</th><th scope=col>per_days_PM2.5</th><th scope=col>air_quality_type</th></tr>\n",
       "\t<tr><th></th><th scope=col>&lt;chr&gt;</th><th scope=col>&lt;dbl&gt;</th><th scope=col>&lt;dbl&gt;</th><th scope=col>&lt;dbl&gt;</th><th scope=col>&lt;chr&gt;</th></tr>\n",
       "</thead>\n",
       "<tbody>\n",
       "\t<tr><th scope=row>1</th><td>Baldwin   </td><td>93.60</td><td> 81.77</td><td> 18.23</td><td>satisfying    </td></tr>\n",
       "\t<tr><th scope=row>2</th><td>Clay      </td><td>90.41</td><td>  0.00</td><td>100.00</td><td>satisfying    </td></tr>\n",
       "\t<tr><th scope=row>3</th><td>DeKalb    </td><td>88.28</td><td> 89.12</td><td> 10.88</td><td>satisfying    </td></tr>\n",
       "\t<tr><th scope=row>4</th><td>Elmore    </td><td>98.33</td><td>100.00</td><td>  0.00</td><td>satisfying    </td></tr>\n",
       "\t<tr><th scope=row>5</th><td>Etowah    </td><td>87.25</td><td> 77.45</td><td> 22.55</td><td>satisfying    </td></tr>\n",
       "\t<tr><th scope=row>6</th><td>Jefferson </td><td>49.45</td><td> 35.71</td><td> 62.09</td><td>not satisfying</td></tr>\n",
       "\t<tr><th scope=row>7</th><td>Madison   </td><td>80.35</td><td> 45.66</td><td> 46.82</td><td>satisfying    </td></tr>\n",
       "\t<tr><th scope=row>8</th><td>Mobile    </td><td>66.67</td><td> 19.75</td><td> 80.25</td><td>satisfying    </td></tr>\n",
       "\t<tr><th scope=row>9</th><td>Montgomery</td><td>78.45</td><td> 46.55</td><td> 53.45</td><td>satisfying    </td></tr>\n",
       "\t<tr><th scope=row>10</th><td>Morgan    </td><td>78.60</td><td> 35.80</td><td> 64.20</td><td>not satisfying</td></tr>\n",
       "</tbody>\n",
       "</table>\n"
      ],
      "text/latex": [
       "A data.frame: 10 × 5\n",
       "\\begin{tabular}{r|lllll}\n",
       "  & county & per\\_good\\_days & per\\_days\\_Ozone & per\\_days\\_PM2.5 & air\\_quality\\_type\\\\\n",
       "  & <chr> & <dbl> & <dbl> & <dbl> & <chr>\\\\\n",
       "\\hline\n",
       "\t1 & Baldwin    & 93.60 &  81.77 &  18.23 & satisfying    \\\\\n",
       "\t2 & Clay       & 90.41 &   0.00 & 100.00 & satisfying    \\\\\n",
       "\t3 & DeKalb     & 88.28 &  89.12 &  10.88 & satisfying    \\\\\n",
       "\t4 & Elmore     & 98.33 & 100.00 &   0.00 & satisfying    \\\\\n",
       "\t5 & Etowah     & 87.25 &  77.45 &  22.55 & satisfying    \\\\\n",
       "\t6 & Jefferson  & 49.45 &  35.71 &  62.09 & not satisfying\\\\\n",
       "\t7 & Madison    & 80.35 &  45.66 &  46.82 & satisfying    \\\\\n",
       "\t8 & Mobile     & 66.67 &  19.75 &  80.25 & satisfying    \\\\\n",
       "\t9 & Montgomery & 78.45 &  46.55 &  53.45 & satisfying    \\\\\n",
       "\t10 & Morgan     & 78.60 &  35.80 &  64.20 & not satisfying\\\\\n",
       "\\end{tabular}\n"
      ],
      "text/markdown": [
       "\n",
       "A data.frame: 10 × 5\n",
       "\n",
       "| <!--/--> | county &lt;chr&gt; | per_good_days &lt;dbl&gt; | per_days_Ozone &lt;dbl&gt; | per_days_PM2.5 &lt;dbl&gt; | air_quality_type &lt;chr&gt; |\n",
       "|---|---|---|---|---|---|\n",
       "| 1 | Baldwin    | 93.60 |  81.77 |  18.23 | satisfying     |\n",
       "| 2 | Clay       | 90.41 |   0.00 | 100.00 | satisfying     |\n",
       "| 3 | DeKalb     | 88.28 |  89.12 |  10.88 | satisfying     |\n",
       "| 4 | Elmore     | 98.33 | 100.00 |   0.00 | satisfying     |\n",
       "| 5 | Etowah     | 87.25 |  77.45 |  22.55 | satisfying     |\n",
       "| 6 | Jefferson  | 49.45 |  35.71 |  62.09 | not satisfying |\n",
       "| 7 | Madison    | 80.35 |  45.66 |  46.82 | satisfying     |\n",
       "| 8 | Mobile     | 66.67 |  19.75 |  80.25 | satisfying     |\n",
       "| 9 | Montgomery | 78.45 |  46.55 |  53.45 | satisfying     |\n",
       "| 10 | Morgan     | 78.60 |  35.80 |  64.20 | not satisfying |\n",
       "\n"
      ],
      "text/plain": [
       "   county     per_good_days per_days_Ozone per_days_PM2.5 air_quality_type\n",
       "1  Baldwin    93.60          81.77          18.23         satisfying      \n",
       "2  Clay       90.41           0.00         100.00         satisfying      \n",
       "3  DeKalb     88.28          89.12          10.88         satisfying      \n",
       "4  Elmore     98.33         100.00           0.00         satisfying      \n",
       "5  Etowah     87.25          77.45          22.55         satisfying      \n",
       "6  Jefferson  49.45          35.71          62.09         not satisfying  \n",
       "7  Madison    80.35          45.66          46.82         satisfying      \n",
       "8  Mobile     66.67          19.75          80.25         satisfying      \n",
       "9  Montgomery 78.45          46.55          53.45         satisfying      \n",
       "10 Morgan     78.60          35.80          64.20         not satisfying  "
      ]
     },
     "metadata": {},
     "output_type": "display_data"
    }
   ],
   "source": [
    "Air_quality_cleaned <- Air_quality%>%\n",
    "                clean_names()%>%\n",
    "                mutate(per_days_Ozone = 100*days_ozone/days_with_aqi, per_days_PM2.5 = 100*days_pm2_5/days_with_aqi, \n",
    "                       per_good_days = 100*good_days/days_with_aqi, \n",
    "                       air_quality_type = case_when(x90th_percentile_aqi >= 60 ~ \"not satisfying\", x90th_percentile_aqi < 60 ~ \"satisfying\")) %>%\n",
    "                select(county, per_good_days, per_days_Ozone, per_days_PM2.5, air_quality_type)\n",
    "head(Air_quality_cleaned,10)"
   ]
  },
  {
   "cell_type": "markdown",
   "metadata": {},
   "source": [
    "Then we divided this data frame to two groups---\"training data\" and \"testing data\" using `initial_split` function from `tidymodels`.  \n",
    "Since the air quality might be affect by some other factors because they are collected from different states, we also use `initial_split` with `strata = state`."
   ]
  },
  {
   "cell_type": "code",
   "execution_count": 71,
   "metadata": {},
   "outputs": [
    {
     "data": {
      "text/html": [
       "<table>\n",
       "<caption>A data.frame: 6 × 5</caption>\n",
       "<thead>\n",
       "\t<tr><th></th><th scope=col>county</th><th scope=col>per_good_days</th><th scope=col>per_days_Ozone</th><th scope=col>per_days_PM2.5</th><th scope=col>air_quality_type</th></tr>\n",
       "\t<tr><th></th><th scope=col>&lt;chr&gt;</th><th scope=col>&lt;dbl&gt;</th><th scope=col>&lt;dbl&gt;</th><th scope=col>&lt;dbl&gt;</th><th scope=col>&lt;chr&gt;</th></tr>\n",
       "</thead>\n",
       "<tbody>\n",
       "\t<tr><th scope=row>1</th><td>Baldwin  </td><td>93.60</td><td> 81.77</td><td> 18.23</td><td>satisfying    </td></tr>\n",
       "\t<tr><th scope=row>2</th><td>Clay     </td><td>90.41</td><td>  0.00</td><td>100.00</td><td>satisfying    </td></tr>\n",
       "\t<tr><th scope=row>4</th><td>Elmore   </td><td>98.33</td><td>100.00</td><td>  0.00</td><td>satisfying    </td></tr>\n",
       "\t<tr><th scope=row>5</th><td>Etowah   </td><td>87.25</td><td> 77.45</td><td> 22.55</td><td>satisfying    </td></tr>\n",
       "\t<tr><th scope=row>6</th><td>Jefferson</td><td>49.45</td><td> 35.71</td><td> 62.09</td><td>not satisfying</td></tr>\n",
       "\t<tr><th scope=row>7</th><td>Madison  </td><td>80.35</td><td> 45.66</td><td> 46.82</td><td>satisfying    </td></tr>\n",
       "</tbody>\n",
       "</table>\n"
      ],
      "text/latex": [
       "A data.frame: 6 × 5\n",
       "\\begin{tabular}{r|lllll}\n",
       "  & county & per\\_good\\_days & per\\_days\\_Ozone & per\\_days\\_PM2.5 & air\\_quality\\_type\\\\\n",
       "  & <chr> & <dbl> & <dbl> & <dbl> & <chr>\\\\\n",
       "\\hline\n",
       "\t1 & Baldwin   & 93.60 &  81.77 &  18.23 & satisfying    \\\\\n",
       "\t2 & Clay      & 90.41 &   0.00 & 100.00 & satisfying    \\\\\n",
       "\t4 & Elmore    & 98.33 & 100.00 &   0.00 & satisfying    \\\\\n",
       "\t5 & Etowah    & 87.25 &  77.45 &  22.55 & satisfying    \\\\\n",
       "\t6 & Jefferson & 49.45 &  35.71 &  62.09 & not satisfying\\\\\n",
       "\t7 & Madison   & 80.35 &  45.66 &  46.82 & satisfying    \\\\\n",
       "\\end{tabular}\n"
      ],
      "text/markdown": [
       "\n",
       "A data.frame: 6 × 5\n",
       "\n",
       "| <!--/--> | county &lt;chr&gt; | per_good_days &lt;dbl&gt; | per_days_Ozone &lt;dbl&gt; | per_days_PM2.5 &lt;dbl&gt; | air_quality_type &lt;chr&gt; |\n",
       "|---|---|---|---|---|---|\n",
       "| 1 | Baldwin   | 93.60 |  81.77 |  18.23 | satisfying     |\n",
       "| 2 | Clay      | 90.41 |   0.00 | 100.00 | satisfying     |\n",
       "| 4 | Elmore    | 98.33 | 100.00 |   0.00 | satisfying     |\n",
       "| 5 | Etowah    | 87.25 |  77.45 |  22.55 | satisfying     |\n",
       "| 6 | Jefferson | 49.45 |  35.71 |  62.09 | not satisfying |\n",
       "| 7 | Madison   | 80.35 |  45.66 |  46.82 | satisfying     |\n",
       "\n"
      ],
      "text/plain": [
       "  county    per_good_days per_days_Ozone per_days_PM2.5 air_quality_type\n",
       "1 Baldwin   93.60          81.77          18.23         satisfying      \n",
       "2 Clay      90.41           0.00         100.00         satisfying      \n",
       "4 Elmore    98.33         100.00           0.00         satisfying      \n",
       "5 Etowah    87.25          77.45          22.55         satisfying      \n",
       "6 Jefferson 49.45          35.71          62.09         not satisfying  \n",
       "7 Madison   80.35          45.66          46.82         satisfying      "
      ]
     },
     "metadata": {},
     "output_type": "display_data"
    }
   ],
   "source": [
    "Air_quality_split <- initial_split(Air_quality_cleaned, prop = 0.70,strata = air_quality_type)\n",
    "Air_quality_train <- training(Air_quality_split)\n",
    "Air_quality_test <- testing(Air_quality_split)\n",
    "head(Air_quality_train)"
   ]
  },
  {
   "cell_type": "code",
   "execution_count": null,
   "metadata": {},
   "outputs": [],
   "source": []
  }
 ],
 "metadata": {
  "kernelspec": {
   "display_name": "R",
   "language": "R",
   "name": "ir"
  },
  "language_info": {
   "codemirror_mode": "r",
   "file_extension": ".r",
   "mimetype": "text/x-r-source",
   "name": "R",
   "pygments_lexer": "r",
   "version": "4.0.0"
  }
 },
 "nbformat": 4,
 "nbformat_minor": 4
}
