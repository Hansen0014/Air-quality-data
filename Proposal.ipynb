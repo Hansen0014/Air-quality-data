{
 "cells": [
  {
   "cell_type": "code",
   "execution_count": 6,
   "metadata": {},
   "outputs": [],
   "source": [
    "library(repr)\n",
    "library(tidyverse)\n",
    "library(tidymodels)\n",
    "library(readr)"
   ]
  },
  {
   "cell_type": "markdown",
   "metadata": {},
   "source": [
    "#### Group project proposal"
   ]
  },
  {
   "cell_type": "markdown",
   "metadata": {},
   "source": [
    "# Data Analysis on Air Quality Index of Counties in the US"
   ]
  },
  {
   "cell_type": "markdown",
   "metadata": {},
   "source": [
    "DSCI100 group porject-006-14  \n",
    "Group member:  \n",
    "`Dorthy GER`  \n",
    "`Charlie Hua`  \n",
    "`Callie Phelps`  \n",
    "`Hancheng Zhang 29643160`\n"
   ]
  },
  {
   "cell_type": "markdown",
   "metadata": {},
   "source": [
    "## Introduction"
   ]
  },
  {
   "cell_type": "code",
   "execution_count": 7,
   "metadata": {},
   "outputs": [],
   "source": [
    "url <- \"https://raw.githubusercontent.com/Hansen0014/Air-quality-data/main/annual_aqi_by_county_2021.csv\"\n",
    "Air_quality <- read.csv(url)"
   ]
  },
  {
   "cell_type": "code",
   "execution_count": 9,
   "metadata": {},
   "outputs": [
    {
     "data": {
      "text/html": [
       "<table>\n",
       "<caption>A data.frame: 6 × 19</caption>\n",
       "<thead>\n",
       "\t<tr><th></th><th scope=col>State</th><th scope=col>County</th><th scope=col>Year</th><th scope=col>Days.with.AQI</th><th scope=col>Good.Days</th><th scope=col>Moderate.Days</th><th scope=col>Unhealthy.for.Sensitive.Groups.Days</th><th scope=col>Unhealthy.Days</th><th scope=col>Very.Unhealthy.Days</th><th scope=col>Hazardous.Days</th><th scope=col>Max.AQI</th><th scope=col>X90th.Percentile.AQI</th><th scope=col>Median.AQI</th><th scope=col>Days.CO</th><th scope=col>Days.NO2</th><th scope=col>Days.Ozone</th><th scope=col>Days.SO2</th><th scope=col>Days.PM2.5</th><th scope=col>Days.PM10</th></tr>\n",
       "\t<tr><th></th><th scope=col>&lt;chr&gt;</th><th scope=col>&lt;chr&gt;</th><th scope=col>&lt;int&gt;</th><th scope=col>&lt;int&gt;</th><th scope=col>&lt;int&gt;</th><th scope=col>&lt;int&gt;</th><th scope=col>&lt;int&gt;</th><th scope=col>&lt;int&gt;</th><th scope=col>&lt;int&gt;</th><th scope=col>&lt;int&gt;</th><th scope=col>&lt;int&gt;</th><th scope=col>&lt;int&gt;</th><th scope=col>&lt;int&gt;</th><th scope=col>&lt;int&gt;</th><th scope=col>&lt;int&gt;</th><th scope=col>&lt;int&gt;</th><th scope=col>&lt;int&gt;</th><th scope=col>&lt;int&gt;</th><th scope=col>&lt;int&gt;</th></tr>\n",
       "</thead>\n",
       "<tbody>\n",
       "\t<tr><th scope=row>1</th><td>Alabama</td><td>Baldwin  </td><td>2021</td><td>203</td><td>190</td><td>13</td><td>0</td><td>0</td><td>0</td><td>0</td><td> 61</td><td>49</td><td>37</td><td>0</td><td>0</td><td>166</td><td>0</td><td> 37</td><td>0</td></tr>\n",
       "\t<tr><th scope=row>2</th><td>Alabama</td><td>Clay     </td><td>2021</td><td> 73</td><td> 66</td><td> 7</td><td>0</td><td>0</td><td>0</td><td>0</td><td> 67</td><td>50</td><td>28</td><td>0</td><td>0</td><td>  0</td><td>0</td><td> 73</td><td>0</td></tr>\n",
       "\t<tr><th scope=row>3</th><td>Alabama</td><td>DeKalb   </td><td>2021</td><td>239</td><td>211</td><td>28</td><td>0</td><td>0</td><td>0</td><td>0</td><td> 84</td><td>51</td><td>38</td><td>0</td><td>0</td><td>213</td><td>0</td><td> 26</td><td>0</td></tr>\n",
       "\t<tr><th scope=row>4</th><td>Alabama</td><td>Elmore   </td><td>2021</td><td>180</td><td>177</td><td> 3</td><td>0</td><td>0</td><td>0</td><td>0</td><td> 87</td><td>45</td><td>34</td><td>0</td><td>0</td><td>180</td><td>0</td><td>  0</td><td>0</td></tr>\n",
       "\t<tr><th scope=row>5</th><td>Alabama</td><td>Etowah   </td><td>2021</td><td>204</td><td>178</td><td>26</td><td>0</td><td>0</td><td>0</td><td>0</td><td> 77</td><td>54</td><td>38</td><td>0</td><td>0</td><td>158</td><td>0</td><td> 46</td><td>0</td></tr>\n",
       "\t<tr><th scope=row>6</th><td>Alabama</td><td>Jefferson</td><td>2021</td><td>182</td><td> 90</td><td>90</td><td>1</td><td>0</td><td>1</td><td>0</td><td>213</td><td>74</td><td>51</td><td>2</td><td>1</td><td> 65</td><td>0</td><td>113</td><td>1</td></tr>\n",
       "</tbody>\n",
       "</table>\n"
      ],
      "text/latex": [
       "A data.frame: 6 × 19\n",
       "\\begin{tabular}{r|lllllllllllllllllll}\n",
       "  & State & County & Year & Days.with.AQI & Good.Days & Moderate.Days & Unhealthy.for.Sensitive.Groups.Days & Unhealthy.Days & Very.Unhealthy.Days & Hazardous.Days & Max.AQI & X90th.Percentile.AQI & Median.AQI & Days.CO & Days.NO2 & Days.Ozone & Days.SO2 & Days.PM2.5 & Days.PM10\\\\\n",
       "  & <chr> & <chr> & <int> & <int> & <int> & <int> & <int> & <int> & <int> & <int> & <int> & <int> & <int> & <int> & <int> & <int> & <int> & <int> & <int>\\\\\n",
       "\\hline\n",
       "\t1 & Alabama & Baldwin   & 2021 & 203 & 190 & 13 & 0 & 0 & 0 & 0 &  61 & 49 & 37 & 0 & 0 & 166 & 0 &  37 & 0\\\\\n",
       "\t2 & Alabama & Clay      & 2021 &  73 &  66 &  7 & 0 & 0 & 0 & 0 &  67 & 50 & 28 & 0 & 0 &   0 & 0 &  73 & 0\\\\\n",
       "\t3 & Alabama & DeKalb    & 2021 & 239 & 211 & 28 & 0 & 0 & 0 & 0 &  84 & 51 & 38 & 0 & 0 & 213 & 0 &  26 & 0\\\\\n",
       "\t4 & Alabama & Elmore    & 2021 & 180 & 177 &  3 & 0 & 0 & 0 & 0 &  87 & 45 & 34 & 0 & 0 & 180 & 0 &   0 & 0\\\\\n",
       "\t5 & Alabama & Etowah    & 2021 & 204 & 178 & 26 & 0 & 0 & 0 & 0 &  77 & 54 & 38 & 0 & 0 & 158 & 0 &  46 & 0\\\\\n",
       "\t6 & Alabama & Jefferson & 2021 & 182 &  90 & 90 & 1 & 0 & 1 & 0 & 213 & 74 & 51 & 2 & 1 &  65 & 0 & 113 & 1\\\\\n",
       "\\end{tabular}\n"
      ],
      "text/markdown": [
       "\n",
       "A data.frame: 6 × 19\n",
       "\n",
       "| <!--/--> | State &lt;chr&gt; | County &lt;chr&gt; | Year &lt;int&gt; | Days.with.AQI &lt;int&gt; | Good.Days &lt;int&gt; | Moderate.Days &lt;int&gt; | Unhealthy.for.Sensitive.Groups.Days &lt;int&gt; | Unhealthy.Days &lt;int&gt; | Very.Unhealthy.Days &lt;int&gt; | Hazardous.Days &lt;int&gt; | Max.AQI &lt;int&gt; | X90th.Percentile.AQI &lt;int&gt; | Median.AQI &lt;int&gt; | Days.CO &lt;int&gt; | Days.NO2 &lt;int&gt; | Days.Ozone &lt;int&gt; | Days.SO2 &lt;int&gt; | Days.PM2.5 &lt;int&gt; | Days.PM10 &lt;int&gt; |\n",
       "|---|---|---|---|---|---|---|---|---|---|---|---|---|---|---|---|---|---|---|---|\n",
       "| 1 | Alabama | Baldwin   | 2021 | 203 | 190 | 13 | 0 | 0 | 0 | 0 |  61 | 49 | 37 | 0 | 0 | 166 | 0 |  37 | 0 |\n",
       "| 2 | Alabama | Clay      | 2021 |  73 |  66 |  7 | 0 | 0 | 0 | 0 |  67 | 50 | 28 | 0 | 0 |   0 | 0 |  73 | 0 |\n",
       "| 3 | Alabama | DeKalb    | 2021 | 239 | 211 | 28 | 0 | 0 | 0 | 0 |  84 | 51 | 38 | 0 | 0 | 213 | 0 |  26 | 0 |\n",
       "| 4 | Alabama | Elmore    | 2021 | 180 | 177 |  3 | 0 | 0 | 0 | 0 |  87 | 45 | 34 | 0 | 0 | 180 | 0 |   0 | 0 |\n",
       "| 5 | Alabama | Etowah    | 2021 | 204 | 178 | 26 | 0 | 0 | 0 | 0 |  77 | 54 | 38 | 0 | 0 | 158 | 0 |  46 | 0 |\n",
       "| 6 | Alabama | Jefferson | 2021 | 182 |  90 | 90 | 1 | 0 | 1 | 0 | 213 | 74 | 51 | 2 | 1 |  65 | 0 | 113 | 1 |\n",
       "\n"
      ],
      "text/plain": [
       "  State   County    Year Days.with.AQI Good.Days Moderate.Days\n",
       "1 Alabama Baldwin   2021 203           190       13           \n",
       "2 Alabama Clay      2021  73            66        7           \n",
       "3 Alabama DeKalb    2021 239           211       28           \n",
       "4 Alabama Elmore    2021 180           177        3           \n",
       "5 Alabama Etowah    2021 204           178       26           \n",
       "6 Alabama Jefferson 2021 182            90       90           \n",
       "  Unhealthy.for.Sensitive.Groups.Days Unhealthy.Days Very.Unhealthy.Days\n",
       "1 0                                   0              0                  \n",
       "2 0                                   0              0                  \n",
       "3 0                                   0              0                  \n",
       "4 0                                   0              0                  \n",
       "5 0                                   0              0                  \n",
       "6 1                                   0              1                  \n",
       "  Hazardous.Days Max.AQI X90th.Percentile.AQI Median.AQI Days.CO Days.NO2\n",
       "1 0               61     49                   37         0       0       \n",
       "2 0               67     50                   28         0       0       \n",
       "3 0               84     51                   38         0       0       \n",
       "4 0               87     45                   34         0       0       \n",
       "5 0               77     54                   38         0       0       \n",
       "6 0              213     74                   51         2       1       \n",
       "  Days.Ozone Days.SO2 Days.PM2.5 Days.PM10\n",
       "1 166        0         37        0        \n",
       "2   0        0         73        0        \n",
       "3 213        0         26        0        \n",
       "4 180        0          0        0        \n",
       "5 158        0         46        0        \n",
       "6  65        0        113        1        "
      ]
     },
     "metadata": {},
     "output_type": "display_data"
    }
   ],
   "source": [
    "head(Air_quality)"
   ]
  },
  {
   "cell_type": "code",
   "execution_count": null,
   "metadata": {},
   "outputs": [],
   "source": []
  }
 ],
 "metadata": {
  "kernelspec": {
   "display_name": "R",
   "language": "R",
   "name": "ir"
  },
  "language_info": {
   "codemirror_mode": "r",
   "file_extension": ".r",
   "mimetype": "text/x-r-source",
   "name": "R",
   "pygments_lexer": "r",
   "version": "4.0.0"
  }
 },
 "nbformat": 4,
 "nbformat_minor": 4
}
