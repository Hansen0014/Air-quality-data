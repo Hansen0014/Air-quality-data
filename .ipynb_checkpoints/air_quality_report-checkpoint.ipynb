{
 "cells": [
  {
   "cell_type": "code",
   "execution_count": 11,
   "metadata": {},
   "outputs": [
    {
     "name": "stderr",
     "output_type": "stream",
     "text": [
      "Updating HTML index of packages in '.Library'\n",
      "\n",
      "Making 'packages.html' ...\n",
      " done\n",
      "\n"
     ]
    }
   ],
   "source": [
    "install.packages(\"janitor\")\n",
    "\n",
    "library(repr)\n",
    "library(tidyverse)\n",
    "library(tidymodels)\n",
    "library(readr)\n",
    "library(janitor)\n",
    "library(dplyr)\n",
    "library(cowplot)\n",
    "\n",
    "options(digits = 4)\n",
    "set.seed(2)"
   ]
  },
  {
   "cell_type": "markdown",
   "metadata": {},
   "source": [
    "#### Group project report"
   ]
  },
  {
   "cell_type": "markdown",
   "metadata": {},
   "source": [
    "# Data Analysis on Air Quality Index of Counties in the US"
   ]
  },
  {
   "cell_type": "markdown",
   "metadata": {},
   "source": [
    "DSCI100 group project-006-14  \n",
    "Group member:  \n",
    "`Dorothy GER`  \n",
    "`Charlie Hua`  \n",
    "`Callie Phelps`  \n",
    "`Hancheng Zhang `\n"
   ]
  },
  {
   "cell_type": "markdown",
   "metadata": {},
   "source": [
    "## Introduction"
   ]
  },
  {
   "cell_type": "markdown",
   "metadata": {},
   "source": [
    "## Methods & Results"
   ]
  },
  {
   "cell_type": "markdown",
   "metadata": {},
   "source": [
    "This air quality report is based on the \"2021 Annual Summary Data by County\" from United States Environmental Protection Agency. And a brief version is showned as below."
   ]
  },
  {
   "cell_type": "code",
   "execution_count": 4,
   "metadata": {},
   "outputs": [
    {
     "data": {
      "text/html": [
       "<table>\n",
       "<caption>A data.frame: 6 × 19</caption>\n",
       "<thead>\n",
       "\t<tr><th></th><th scope=col>State</th><th scope=col>County</th><th scope=col>Year</th><th scope=col>Days.with.AQI</th><th scope=col>Good.Days</th><th scope=col>Moderate.Days</th><th scope=col>Unhealthy.for.Sensitive.Groups.Days</th><th scope=col>Unhealthy.Days</th><th scope=col>Very.Unhealthy.Days</th><th scope=col>Hazardous.Days</th><th scope=col>Max.AQI</th><th scope=col>X90th.Percentile.AQI</th><th scope=col>Median.AQI</th><th scope=col>Days.CO</th><th scope=col>Days.NO2</th><th scope=col>Days.Ozone</th><th scope=col>Days.SO2</th><th scope=col>Days.PM2.5</th><th scope=col>Days.PM10</th></tr>\n",
       "\t<tr><th></th><th scope=col>&lt;chr&gt;</th><th scope=col>&lt;chr&gt;</th><th scope=col>&lt;int&gt;</th><th scope=col>&lt;int&gt;</th><th scope=col>&lt;int&gt;</th><th scope=col>&lt;int&gt;</th><th scope=col>&lt;int&gt;</th><th scope=col>&lt;int&gt;</th><th scope=col>&lt;int&gt;</th><th scope=col>&lt;int&gt;</th><th scope=col>&lt;int&gt;</th><th scope=col>&lt;int&gt;</th><th scope=col>&lt;int&gt;</th><th scope=col>&lt;int&gt;</th><th scope=col>&lt;int&gt;</th><th scope=col>&lt;int&gt;</th><th scope=col>&lt;int&gt;</th><th scope=col>&lt;int&gt;</th><th scope=col>&lt;int&gt;</th></tr>\n",
       "</thead>\n",
       "<tbody>\n",
       "\t<tr><th scope=row>1</th><td>Alabama</td><td>Baldwin  </td><td>2021</td><td>203</td><td>190</td><td>13</td><td>0</td><td>0</td><td>0</td><td>0</td><td> 61</td><td>49</td><td>37</td><td>0</td><td>0</td><td>166</td><td>0</td><td> 37</td><td>0</td></tr>\n",
       "\t<tr><th scope=row>2</th><td>Alabama</td><td>Clay     </td><td>2021</td><td> 73</td><td> 66</td><td> 7</td><td>0</td><td>0</td><td>0</td><td>0</td><td> 67</td><td>50</td><td>28</td><td>0</td><td>0</td><td>  0</td><td>0</td><td> 73</td><td>0</td></tr>\n",
       "\t<tr><th scope=row>3</th><td>Alabama</td><td>DeKalb   </td><td>2021</td><td>239</td><td>211</td><td>28</td><td>0</td><td>0</td><td>0</td><td>0</td><td> 84</td><td>51</td><td>38</td><td>0</td><td>0</td><td>213</td><td>0</td><td> 26</td><td>0</td></tr>\n",
       "\t<tr><th scope=row>4</th><td>Alabama</td><td>Elmore   </td><td>2021</td><td>180</td><td>177</td><td> 3</td><td>0</td><td>0</td><td>0</td><td>0</td><td> 87</td><td>45</td><td>34</td><td>0</td><td>0</td><td>180</td><td>0</td><td>  0</td><td>0</td></tr>\n",
       "\t<tr><th scope=row>5</th><td>Alabama</td><td>Etowah   </td><td>2021</td><td>204</td><td>178</td><td>26</td><td>0</td><td>0</td><td>0</td><td>0</td><td> 77</td><td>54</td><td>38</td><td>0</td><td>0</td><td>158</td><td>0</td><td> 46</td><td>0</td></tr>\n",
       "\t<tr><th scope=row>6</th><td>Alabama</td><td>Jefferson</td><td>2021</td><td>182</td><td> 90</td><td>90</td><td>1</td><td>0</td><td>1</td><td>0</td><td>213</td><td>74</td><td>51</td><td>2</td><td>1</td><td> 65</td><td>0</td><td>113</td><td>1</td></tr>\n",
       "</tbody>\n",
       "</table>\n"
      ],
      "text/latex": [
       "A data.frame: 6 × 19\n",
       "\\begin{tabular}{r|lllllllllllllllllll}\n",
       "  & State & County & Year & Days.with.AQI & Good.Days & Moderate.Days & Unhealthy.for.Sensitive.Groups.Days & Unhealthy.Days & Very.Unhealthy.Days & Hazardous.Days & Max.AQI & X90th.Percentile.AQI & Median.AQI & Days.CO & Days.NO2 & Days.Ozone & Days.SO2 & Days.PM2.5 & Days.PM10\\\\\n",
       "  & <chr> & <chr> & <int> & <int> & <int> & <int> & <int> & <int> & <int> & <int> & <int> & <int> & <int> & <int> & <int> & <int> & <int> & <int> & <int>\\\\\n",
       "\\hline\n",
       "\t1 & Alabama & Baldwin   & 2021 & 203 & 190 & 13 & 0 & 0 & 0 & 0 &  61 & 49 & 37 & 0 & 0 & 166 & 0 &  37 & 0\\\\\n",
       "\t2 & Alabama & Clay      & 2021 &  73 &  66 &  7 & 0 & 0 & 0 & 0 &  67 & 50 & 28 & 0 & 0 &   0 & 0 &  73 & 0\\\\\n",
       "\t3 & Alabama & DeKalb    & 2021 & 239 & 211 & 28 & 0 & 0 & 0 & 0 &  84 & 51 & 38 & 0 & 0 & 213 & 0 &  26 & 0\\\\\n",
       "\t4 & Alabama & Elmore    & 2021 & 180 & 177 &  3 & 0 & 0 & 0 & 0 &  87 & 45 & 34 & 0 & 0 & 180 & 0 &   0 & 0\\\\\n",
       "\t5 & Alabama & Etowah    & 2021 & 204 & 178 & 26 & 0 & 0 & 0 & 0 &  77 & 54 & 38 & 0 & 0 & 158 & 0 &  46 & 0\\\\\n",
       "\t6 & Alabama & Jefferson & 2021 & 182 &  90 & 90 & 1 & 0 & 1 & 0 & 213 & 74 & 51 & 2 & 1 &  65 & 0 & 113 & 1\\\\\n",
       "\\end{tabular}\n"
      ],
      "text/markdown": [
       "\n",
       "A data.frame: 6 × 19\n",
       "\n",
       "| <!--/--> | State &lt;chr&gt; | County &lt;chr&gt; | Year &lt;int&gt; | Days.with.AQI &lt;int&gt; | Good.Days &lt;int&gt; | Moderate.Days &lt;int&gt; | Unhealthy.for.Sensitive.Groups.Days &lt;int&gt; | Unhealthy.Days &lt;int&gt; | Very.Unhealthy.Days &lt;int&gt; | Hazardous.Days &lt;int&gt; | Max.AQI &lt;int&gt; | X90th.Percentile.AQI &lt;int&gt; | Median.AQI &lt;int&gt; | Days.CO &lt;int&gt; | Days.NO2 &lt;int&gt; | Days.Ozone &lt;int&gt; | Days.SO2 &lt;int&gt; | Days.PM2.5 &lt;int&gt; | Days.PM10 &lt;int&gt; |\n",
       "|---|---|---|---|---|---|---|---|---|---|---|---|---|---|---|---|---|---|---|---|\n",
       "| 1 | Alabama | Baldwin   | 2021 | 203 | 190 | 13 | 0 | 0 | 0 | 0 |  61 | 49 | 37 | 0 | 0 | 166 | 0 |  37 | 0 |\n",
       "| 2 | Alabama | Clay      | 2021 |  73 |  66 |  7 | 0 | 0 | 0 | 0 |  67 | 50 | 28 | 0 | 0 |   0 | 0 |  73 | 0 |\n",
       "| 3 | Alabama | DeKalb    | 2021 | 239 | 211 | 28 | 0 | 0 | 0 | 0 |  84 | 51 | 38 | 0 | 0 | 213 | 0 |  26 | 0 |\n",
       "| 4 | Alabama | Elmore    | 2021 | 180 | 177 |  3 | 0 | 0 | 0 | 0 |  87 | 45 | 34 | 0 | 0 | 180 | 0 |   0 | 0 |\n",
       "| 5 | Alabama | Etowah    | 2021 | 204 | 178 | 26 | 0 | 0 | 0 | 0 |  77 | 54 | 38 | 0 | 0 | 158 | 0 |  46 | 0 |\n",
       "| 6 | Alabama | Jefferson | 2021 | 182 |  90 | 90 | 1 | 0 | 1 | 0 | 213 | 74 | 51 | 2 | 1 |  65 | 0 | 113 | 1 |\n",
       "\n"
      ],
      "text/plain": [
       "  State   County    Year Days.with.AQI Good.Days Moderate.Days\n",
       "1 Alabama Baldwin   2021 203           190       13           \n",
       "2 Alabama Clay      2021  73            66        7           \n",
       "3 Alabama DeKalb    2021 239           211       28           \n",
       "4 Alabama Elmore    2021 180           177        3           \n",
       "5 Alabama Etowah    2021 204           178       26           \n",
       "6 Alabama Jefferson 2021 182            90       90           \n",
       "  Unhealthy.for.Sensitive.Groups.Days Unhealthy.Days Very.Unhealthy.Days\n",
       "1 0                                   0              0                  \n",
       "2 0                                   0              0                  \n",
       "3 0                                   0              0                  \n",
       "4 0                                   0              0                  \n",
       "5 0                                   0              0                  \n",
       "6 1                                   0              1                  \n",
       "  Hazardous.Days Max.AQI X90th.Percentile.AQI Median.AQI Days.CO Days.NO2\n",
       "1 0               61     49                   37         0       0       \n",
       "2 0               67     50                   28         0       0       \n",
       "3 0               84     51                   38         0       0       \n",
       "4 0               87     45                   34         0       0       \n",
       "5 0               77     54                   38         0       0       \n",
       "6 0              213     74                   51         2       1       \n",
       "  Days.Ozone Days.SO2 Days.PM2.5 Days.PM10\n",
       "1 166        0         37        0        \n",
       "2   0        0         73        0        \n",
       "3 213        0         26        0        \n",
       "4 180        0          0        0        \n",
       "5 158        0         46        0        \n",
       "6  65        0        113        1        "
      ]
     },
     "metadata": {},
     "output_type": "display_data"
    }
   ],
   "source": [
    "url <- \"https://raw.githubusercontent.com/Hansen0014/Air-quality-data/main/annual_aqi_by_county_2021.csv\"\n",
    "Air_quality <- read.csv(url)\n",
    "head(Air_quality)"
   ]
  },
  {
   "cell_type": "markdown",
   "metadata": {},
   "source": [
    "Since we want to predict does a county face existing/potential air quality issues. We decide to set a bar towards `90th_Percentile_AQI`. This `90th_Percentile_AQI` column indicates the value 90 percent of the AQI during a year fall below. So a higher value in 90th_Percentile_AQI infers a place with worse air quality.\n",
    "\n",
    "According to the WHO air quality standard, a good/satisfying air quality means the air pollution poses little or no risk and it will have a AQI value from 0-50. So we decided to define counties with 90th percentile AQI **higher than or equal to 50** as \"`not satisfying`\" type(having existing/potential air quality issues), and counties with 90th percentile AQI **lower than 50** would be defined as `satisfying` type(having no air quality issues)."
   ]
  },
  {
   "cell_type": "markdown",
   "metadata": {},
   "source": [
    "In order to achieve this goal, first we wangle this data to a clean and tidy form without other unnecessary columns.  \n",
    "We chosed \"`days_Ozone`\",\"`good_days`\",\"`days_pm2.5`\" as our **predictor variable**. We choose these variables due to Ozone and pm2.5 are considered the primary pollutants towards air quality issues. And `good_days` variable is recorded days with good air quality based on EPA's method. \n",
    "\n",
    "\n",
    "`days_Ozone` indicates that the days Ozone pollutant exceeds the standard as the first/second/third exceedance.\n",
    "\n",
    "`days_pm2.5` indicates that the days Ozone pollutant exceeds the standard as the first/second/third exceedance.\n",
    "\n",
    "`good_days` indicates that the days EPA defined as good air quality.\n",
    " \n",
    "Due to these three variable are based on \"`Days_with_AQI`\", we can not directly use them as comparison variable since every county has different `Days_with_AQI`. So we mutated them to the percentage form.  \n",
    "Then we divided the observations to two groups---\"`not satisfying`\" and \"`satisifying`\" based on their \"`90th_Percentile_AQI`\"."
   ]
  },
  {
   "cell_type": "code",
   "execution_count": 8,
   "metadata": {},
   "outputs": [
    {
     "data": {
      "text/html": [
       "<table>\n",
       "<caption>A data.frame: 6 × 5</caption>\n",
       "<thead>\n",
       "\t<tr><th></th><th scope=col>county</th><th scope=col>per_good_days</th><th scope=col>per_days_Ozone</th><th scope=col>per_days_PM2.5</th><th scope=col>air_quality_type</th></tr>\n",
       "\t<tr><th></th><th scope=col>&lt;chr&gt;</th><th scope=col>&lt;dbl&gt;</th><th scope=col>&lt;dbl&gt;</th><th scope=col>&lt;dbl&gt;</th><th scope=col>&lt;chr&gt;</th></tr>\n",
       "</thead>\n",
       "<tbody>\n",
       "\t<tr><th scope=row>1</th><td>Baldwin  </td><td>93.60</td><td> 81.77</td><td> 18.23</td><td>satisfying    </td></tr>\n",
       "\t<tr><th scope=row>2</th><td>Clay     </td><td>90.41</td><td>  0.00</td><td>100.00</td><td>not satisfying</td></tr>\n",
       "\t<tr><th scope=row>3</th><td>DeKalb   </td><td>88.28</td><td> 89.12</td><td> 10.88</td><td>not satisfying</td></tr>\n",
       "\t<tr><th scope=row>4</th><td>Elmore   </td><td>98.33</td><td>100.00</td><td>  0.00</td><td>satisfying    </td></tr>\n",
       "\t<tr><th scope=row>5</th><td>Etowah   </td><td>87.25</td><td> 77.45</td><td> 22.55</td><td>not satisfying</td></tr>\n",
       "\t<tr><th scope=row>6</th><td>Jefferson</td><td>49.45</td><td> 35.71</td><td> 62.09</td><td>not satisfying</td></tr>\n",
       "</tbody>\n",
       "</table>\n"
      ],
      "text/latex": [
       "A data.frame: 6 × 5\n",
       "\\begin{tabular}{r|lllll}\n",
       "  & county & per\\_good\\_days & per\\_days\\_Ozone & per\\_days\\_PM2.5 & air\\_quality\\_type\\\\\n",
       "  & <chr> & <dbl> & <dbl> & <dbl> & <chr>\\\\\n",
       "\\hline\n",
       "\t1 & Baldwin   & 93.60 &  81.77 &  18.23 & satisfying    \\\\\n",
       "\t2 & Clay      & 90.41 &   0.00 & 100.00 & not satisfying\\\\\n",
       "\t3 & DeKalb    & 88.28 &  89.12 &  10.88 & not satisfying\\\\\n",
       "\t4 & Elmore    & 98.33 & 100.00 &   0.00 & satisfying    \\\\\n",
       "\t5 & Etowah    & 87.25 &  77.45 &  22.55 & not satisfying\\\\\n",
       "\t6 & Jefferson & 49.45 &  35.71 &  62.09 & not satisfying\\\\\n",
       "\\end{tabular}\n"
      ],
      "text/markdown": [
       "\n",
       "A data.frame: 6 × 5\n",
       "\n",
       "| <!--/--> | county &lt;chr&gt; | per_good_days &lt;dbl&gt; | per_days_Ozone &lt;dbl&gt; | per_days_PM2.5 &lt;dbl&gt; | air_quality_type &lt;chr&gt; |\n",
       "|---|---|---|---|---|---|\n",
       "| 1 | Baldwin   | 93.60 |  81.77 |  18.23 | satisfying     |\n",
       "| 2 | Clay      | 90.41 |   0.00 | 100.00 | not satisfying |\n",
       "| 3 | DeKalb    | 88.28 |  89.12 |  10.88 | not satisfying |\n",
       "| 4 | Elmore    | 98.33 | 100.00 |   0.00 | satisfying     |\n",
       "| 5 | Etowah    | 87.25 |  77.45 |  22.55 | not satisfying |\n",
       "| 6 | Jefferson | 49.45 |  35.71 |  62.09 | not satisfying |\n",
       "\n"
      ],
      "text/plain": [
       "  county    per_good_days per_days_Ozone per_days_PM2.5 air_quality_type\n",
       "1 Baldwin   93.60          81.77          18.23         satisfying      \n",
       "2 Clay      90.41           0.00         100.00         not satisfying  \n",
       "3 DeKalb    88.28          89.12          10.88         not satisfying  \n",
       "4 Elmore    98.33         100.00           0.00         satisfying      \n",
       "5 Etowah    87.25          77.45          22.55         not satisfying  \n",
       "6 Jefferson 49.45          35.71          62.09         not satisfying  "
      ]
     },
     "metadata": {},
     "output_type": "display_data"
    }
   ],
   "source": [
    "Air_quality_cleaned <- Air_quality%>%\n",
    "                clean_names()%>%\n",
    "                mutate(per_days_Ozone = 100*days_ozone/days_with_aqi, per_days_PM2.5 = 100*days_pm2_5/days_with_aqi, \n",
    "                       per_good_days = 100*good_days/days_with_aqi, \n",
    "                       air_quality_type = case_when(x90th_percentile_aqi >= 50 ~ \"not satisfying\", x90th_percentile_aqi < 50 ~ \"satisfying\")) %>%\n",
    "                select(county, per_good_days, per_days_Ozone, per_days_PM2.5, air_quality_type)\n",
    "head(Air_quality_cleaned)"
   ]
  },
  {
   "cell_type": "markdown",
   "metadata": {},
   "source": [
    "* Split the data set to training and testing data."
   ]
  },
  {
   "cell_type": "markdown",
   "metadata": {},
   "source": [
    "We will use K-nearest neighbors classification method to conduct this analysis. In order to get an appropriate K value, we divided this data frame to two groups---\"training data\" and \"testing data\" using `initial_split` function from `tidymodels`.  \n",
    "\n",
    "In order to get a more accurate model, we decide to use a larger training data set. So we set `prop = 0.65` to divide 65% of the original data to training data and 35% as the testing data.\n",
    "\n",
    "\n",
    "To ensure that roughly the same proportion of each class ends up in both the training and testing sets, we also use `initial_split` with `strata = air_quality_type`."
   ]
  },
  {
   "cell_type": "code",
   "execution_count": 6,
   "metadata": {},
   "outputs": [
    {
     "data": {
      "text/html": [
       "<table>\n",
       "<caption>A data.frame: 6 × 5</caption>\n",
       "<thead>\n",
       "\t<tr><th></th><th scope=col>county</th><th scope=col>per_good_days</th><th scope=col>per_days_Ozone</th><th scope=col>per_days_PM2.5</th><th scope=col>air_quality_type</th></tr>\n",
       "\t<tr><th></th><th scope=col>&lt;chr&gt;</th><th scope=col>&lt;dbl&gt;</th><th scope=col>&lt;dbl&gt;</th><th scope=col>&lt;dbl&gt;</th><th scope=col>&lt;chr&gt;</th></tr>\n",
       "</thead>\n",
       "<tbody>\n",
       "\t<tr><th scope=row>1</th><td>Baldwin  </td><td>93.60</td><td> 81.77</td><td>18.23</td><td>satisfying    </td></tr>\n",
       "\t<tr><th scope=row>3</th><td>DeKalb   </td><td>88.28</td><td> 89.12</td><td>10.88</td><td>not satisfying</td></tr>\n",
       "\t<tr><th scope=row>4</th><td>Elmore   </td><td>98.33</td><td>100.00</td><td> 0.00</td><td>satisfying    </td></tr>\n",
       "\t<tr><th scope=row>5</th><td>Etowah   </td><td>87.25</td><td> 77.45</td><td>22.55</td><td>not satisfying</td></tr>\n",
       "\t<tr><th scope=row>6</th><td>Jefferson</td><td>49.45</td><td> 35.71</td><td>62.09</td><td>not satisfying</td></tr>\n",
       "\t<tr><th scope=row>7</th><td>Madison  </td><td>80.35</td><td> 45.66</td><td>46.82</td><td>not satisfying</td></tr>\n",
       "</tbody>\n",
       "</table>\n"
      ],
      "text/latex": [
       "A data.frame: 6 × 5\n",
       "\\begin{tabular}{r|lllll}\n",
       "  & county & per\\_good\\_days & per\\_days\\_Ozone & per\\_days\\_PM2.5 & air\\_quality\\_type\\\\\n",
       "  & <chr> & <dbl> & <dbl> & <dbl> & <chr>\\\\\n",
       "\\hline\n",
       "\t1 & Baldwin   & 93.60 &  81.77 & 18.23 & satisfying    \\\\\n",
       "\t3 & DeKalb    & 88.28 &  89.12 & 10.88 & not satisfying\\\\\n",
       "\t4 & Elmore    & 98.33 & 100.00 &  0.00 & satisfying    \\\\\n",
       "\t5 & Etowah    & 87.25 &  77.45 & 22.55 & not satisfying\\\\\n",
       "\t6 & Jefferson & 49.45 &  35.71 & 62.09 & not satisfying\\\\\n",
       "\t7 & Madison   & 80.35 &  45.66 & 46.82 & not satisfying\\\\\n",
       "\\end{tabular}\n"
      ],
      "text/markdown": [
       "\n",
       "A data.frame: 6 × 5\n",
       "\n",
       "| <!--/--> | county &lt;chr&gt; | per_good_days &lt;dbl&gt; | per_days_Ozone &lt;dbl&gt; | per_days_PM2.5 &lt;dbl&gt; | air_quality_type &lt;chr&gt; |\n",
       "|---|---|---|---|---|---|\n",
       "| 1 | Baldwin   | 93.60 |  81.77 | 18.23 | satisfying     |\n",
       "| 3 | DeKalb    | 88.28 |  89.12 | 10.88 | not satisfying |\n",
       "| 4 | Elmore    | 98.33 | 100.00 |  0.00 | satisfying     |\n",
       "| 5 | Etowah    | 87.25 |  77.45 | 22.55 | not satisfying |\n",
       "| 6 | Jefferson | 49.45 |  35.71 | 62.09 | not satisfying |\n",
       "| 7 | Madison   | 80.35 |  45.66 | 46.82 | not satisfying |\n",
       "\n"
      ],
      "text/plain": [
       "  county    per_good_days per_days_Ozone per_days_PM2.5 air_quality_type\n",
       "1 Baldwin   93.60          81.77         18.23          satisfying      \n",
       "3 DeKalb    88.28          89.12         10.88          not satisfying  \n",
       "4 Elmore    98.33         100.00          0.00          satisfying      \n",
       "5 Etowah    87.25          77.45         22.55          not satisfying  \n",
       "6 Jefferson 49.45          35.71         62.09          not satisfying  \n",
       "7 Madison   80.35          45.66         46.82          not satisfying  "
      ]
     },
     "metadata": {},
     "output_type": "display_data"
    },
    {
     "data": {
      "text/html": [
       "<table>\n",
       "<caption>A data.frame: 6 × 5</caption>\n",
       "<thead>\n",
       "\t<tr><th></th><th scope=col>county</th><th scope=col>per_good_days</th><th scope=col>per_days_Ozone</th><th scope=col>per_days_PM2.5</th><th scope=col>air_quality_type</th></tr>\n",
       "\t<tr><th></th><th scope=col>&lt;chr&gt;</th><th scope=col>&lt;dbl&gt;</th><th scope=col>&lt;dbl&gt;</th><th scope=col>&lt;dbl&gt;</th><th scope=col>&lt;chr&gt;</th></tr>\n",
       "</thead>\n",
       "<tbody>\n",
       "\t<tr><th scope=row>2</th><td>Clay      </td><td>90.41</td><td>  0.00</td><td>100.000</td><td>not satisfying</td></tr>\n",
       "\t<tr><th scope=row>9</th><td>Montgomery</td><td>78.45</td><td> 46.55</td><td> 53.448</td><td>not satisfying</td></tr>\n",
       "\t<tr><th scope=row>10</th><td>Morgan    </td><td>78.60</td><td> 35.80</td><td> 64.198</td><td>not satisfying</td></tr>\n",
       "\t<tr><th scope=row>11</th><td>Russell   </td><td>77.78</td><td> 30.45</td><td> 69.547</td><td>not satisfying</td></tr>\n",
       "\t<tr><th scope=row>22</th><td>Coconino  </td><td>64.84</td><td>100.00</td><td>  0.000</td><td>not satisfying</td></tr>\n",
       "\t<tr><th scope=row>25</th><td>Maricopa  </td><td>17.11</td><td> 78.95</td><td>  2.632</td><td>not satisfying</td></tr>\n",
       "</tbody>\n",
       "</table>\n"
      ],
      "text/latex": [
       "A data.frame: 6 × 5\n",
       "\\begin{tabular}{r|lllll}\n",
       "  & county & per\\_good\\_days & per\\_days\\_Ozone & per\\_days\\_PM2.5 & air\\_quality\\_type\\\\\n",
       "  & <chr> & <dbl> & <dbl> & <dbl> & <chr>\\\\\n",
       "\\hline\n",
       "\t2 & Clay       & 90.41 &   0.00 & 100.000 & not satisfying\\\\\n",
       "\t9 & Montgomery & 78.45 &  46.55 &  53.448 & not satisfying\\\\\n",
       "\t10 & Morgan     & 78.60 &  35.80 &  64.198 & not satisfying\\\\\n",
       "\t11 & Russell    & 77.78 &  30.45 &  69.547 & not satisfying\\\\\n",
       "\t22 & Coconino   & 64.84 & 100.00 &   0.000 & not satisfying\\\\\n",
       "\t25 & Maricopa   & 17.11 &  78.95 &   2.632 & not satisfying\\\\\n",
       "\\end{tabular}\n"
      ],
      "text/markdown": [
       "\n",
       "A data.frame: 6 × 5\n",
       "\n",
       "| <!--/--> | county &lt;chr&gt; | per_good_days &lt;dbl&gt; | per_days_Ozone &lt;dbl&gt; | per_days_PM2.5 &lt;dbl&gt; | air_quality_type &lt;chr&gt; |\n",
       "|---|---|---|---|---|---|\n",
       "| 2 | Clay       | 90.41 |   0.00 | 100.000 | not satisfying |\n",
       "| 9 | Montgomery | 78.45 |  46.55 |  53.448 | not satisfying |\n",
       "| 10 | Morgan     | 78.60 |  35.80 |  64.198 | not satisfying |\n",
       "| 11 | Russell    | 77.78 |  30.45 |  69.547 | not satisfying |\n",
       "| 22 | Coconino   | 64.84 | 100.00 |   0.000 | not satisfying |\n",
       "| 25 | Maricopa   | 17.11 |  78.95 |   2.632 | not satisfying |\n",
       "\n"
      ],
      "text/plain": [
       "   county     per_good_days per_days_Ozone per_days_PM2.5 air_quality_type\n",
       "2  Clay       90.41           0.00         100.000        not satisfying  \n",
       "9  Montgomery 78.45          46.55          53.448        not satisfying  \n",
       "10 Morgan     78.60          35.80          64.198        not satisfying  \n",
       "11 Russell    77.78          30.45          69.547        not satisfying  \n",
       "22 Coconino   64.84         100.00           0.000        not satisfying  \n",
       "25 Maricopa   17.11          78.95           2.632        not satisfying  "
      ]
     },
     "metadata": {},
     "output_type": "display_data"
    }
   ],
   "source": [
    "Air_quality_split <- initial_split(Air_quality_cleaned, prop = 0.65,strata = air_quality_type)\n",
    "Air_quality_train <- training(Air_quality_split)\n",
    "Air_quality_test <- testing(Air_quality_split)\n",
    "head(Air_quality_train)\n",
    "head(Air_quality_test)"
   ]
  },
  {
   "cell_type": "code",
   "execution_count": null,
   "metadata": {},
   "outputs": [],
   "source": []
  }
 ],
 "metadata": {
  "kernelspec": {
   "display_name": "R",
   "language": "R",
   "name": "ir"
  },
  "language_info": {
   "codemirror_mode": "r",
   "file_extension": ".r",
   "mimetype": "text/x-r-source",
   "name": "R",
   "pygments_lexer": "r",
   "version": "4.0.0"
  }
 },
 "nbformat": 4,
 "nbformat_minor": 4
}
